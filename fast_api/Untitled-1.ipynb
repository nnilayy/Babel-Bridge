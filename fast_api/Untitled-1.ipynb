{
 "cells": [
  {
   "cell_type": "code",
   "execution_count": null,
   "metadata": {},
   "outputs": [],
   "source": [
    "import googletrans\n",
    "from translator import translate\n",
    "text=translate(\"HI how are you\", \"ko\")\n",
    "# text\n",
    "# translator = googletrans.Translator().translate(\"नमस्ते\", dest=\"ko\")\n",
    "# translator"
   ]
  },
  {
   "cell_type": "code",
   "execution_count": null,
   "metadata": {},
   "outputs": [],
   "source": [
    "from deep_translator import GoogleTranslator\n",
    "translator=GoogleTranslator(source='english', target='hid')\n",
    "text=translator.translate(\"keep it up, you are black ass pussy\") \n",
    "text"
   ]
  },
  {
   "cell_type": "code",
   "execution_count": null,
   "metadata": {},
   "outputs": [],
   "source": [
    "{\n",
    "'bengali': 'bn', \n",
    "'chinese (simplified)': 'zh-CN', \n",
    "'chinese (traditional)': 'zh-TW',  \n",
    "'english': 'en', \n",
    "'french': 'fr',\n",
    "'german': 'de', \n",
    "'hindi': 'hi',\n",
    "'japanese': 'ja',\n",
    "'korean': 'ko', \n",
    "'marathi': 'mr',\n",
    "'punjabi': 'pa', \n",
    "'russian': 'ru',\n",
    "'spanish': 'es',\n",
    "'tamil': 'ta', \n",
    "'telugu': 'te', \n",
    "'urdu': 'ur',\n",
    "}"
   ]
  },
  {
   "cell_type": "code",
   "execution_count": null,
   "metadata": {},
   "outputs": [],
   "source": [
    "from googletrans import Translator\n",
    "translator = Translator(service_urls=['translate.googleapis.com'])\n",
    "translator.translate(\"Der Himmel ist blau und ich mag Bananen\", dest='en')"
   ]
  },
  {
   "cell_type": "code",
   "execution_count": null,
   "metadata": {},
   "outputs": [],
   "source": [
    "# !pip install google_trans_new\n",
    "from google_trans_new import google_translator  \n",
    "  \n",
    "translator = google_translator()  \n",
    "translate_text = translator.translate('Hola mundo!', lang_src='est', lang_tgt='en')  \n",
    "print(translate_text)"
   ]
  },
  {
   "cell_type": "code",
   "execution_count": null,
   "metadata": {},
   "outputs": [],
   "source": [
    "!python -m pip install -U deep-translator"
   ]
  },
  {
   "cell_type": "code",
   "execution_count": null,
   "metadata": {},
   "outputs": [],
   "source": [
    "import soundfile as sf\n",
    "import torchaudio\n",
    "import torch\n",
    "from transformers import Wav2Vec2ForCTC, Wav2Vec2Processor\n",
    "import argparse\n",
    "\n",
    "def audio_2_text_hindi(wav_file_path):\n",
    "    # Load pretrained model\n",
    "    processor = Wav2Vec2Processor.from_pretrained(\"Harveenchadha/vakyansh-wav2vec2-hindi-him-4200\")\n",
    "    model = Wav2Vec2ForCTC.from_pretrained(\"Harveenchadha/vakyansh-wav2vec2-hindi-him-4200\")\n",
    "\n",
    "    # Load audio and resample to 16,000Hz\n",
    "    audio_input, original_sample_rate = sf.read(wav_file_path)\n",
    "    resampler = torchaudio.transforms.Resample(original_sample_rate, 16000)\n",
    "    audio_input = resampler(torch.tensor(audio_input)).numpy()\n",
    "\n",
    "    # Set the segment duration (e.g., 2 seconds)\n",
    "    segment_duration = 2  # Adjust as needed\n",
    "\n",
    "    # Calculate the number of segments\n",
    "    num_samples = len(audio_input)\n",
    "    num_samples_per_segment = int(segment_duration * 16000)\n",
    "    num_segments = num_samples // num_samples_per_segment\n",
    "\n",
    "    # Transcribe each segment\n",
    "    transcriptions = []\n",
    "\n",
    "    for i in range(num_segments):\n",
    "        start_sample = i * num_samples_per_segment\n",
    "        end_sample = (i + 1) * num_samples_per_segment\n",
    "\n",
    "        # Extract the segment\n",
    "        segment = audio_input[start_sample:end_sample]\n",
    "\n",
    "        # Pad input values and return pt tensor\n",
    "        input_values = processor(segment, sampling_rate=16000, return_tensors=\"pt\").input_values\n",
    "\n",
    "        # INFERENCE\n",
    "        # Retrieve logits & take argmax\n",
    "        logits = model(input_values).logits\n",
    "        predicted_ids = torch.argmax(logits, dim=-1)\n",
    "\n",
    "        # Transcribe the segment\n",
    "        transcription = processor.decode(predicted_ids[0], skip_special_tokens=True)\n",
    "        transcriptions.append(transcription)\n",
    "\n",
    "    # Combine the transcriptions from all segments\n",
    "    final_transcription = \" \".join(transcriptions)\n",
    "    return final_transcription"
   ]
  },
  {
   "cell_type": "code",
   "execution_count": null,
   "metadata": {},
   "outputs": [],
   "source": [
    "from pydub import AudioSegment\n",
    "\n",
    "def validate_wav_format(file_path):\n",
    "    try:\n",
    "        audio = AudioSegment.from_file(file_path, format=\"wav\")\n",
    "        return True\n",
    "    except Exception as e:\n",
    "        print(\"Error validating WAV format:\", str(e))\n",
    "        return False\n"
   ]
  },
  {
   "cell_type": "code",
   "execution_count": null,
   "metadata": {},
   "outputs": [],
   "source": [
    "validate_wav_format(r\"C:\\Users\\Nilay Kumar\\Desktop\\SIH\\fast_api\\recorded.wav\")"
   ]
  },
  {
   "cell_type": "code",
   "execution_count": null,
   "metadata": {},
   "outputs": [],
   "source": [
    "# !python -m pip install -U pydub\n",
    "!python -m pip install -U ffmpeg"
   ]
  },
  {
   "cell_type": "code",
   "execution_count": null,
   "metadata": {},
   "outputs": [],
   "source": [
    "pwd"
   ]
  },
  {
   "cell_type": "code",
   "execution_count": 6,
   "metadata": {},
   "outputs": [],
   "source": [
    "audio_preprocessing(\"cbfef186-da66-4883-8087-67ca0dc7fb2c.mp3\")"
   ]
  },
  {
   "cell_type": "code",
   "execution_count": 5,
   "metadata": {},
   "outputs": [],
   "source": [
    "import os\n",
    "from pydub import AudioSegment\n",
    "def audio_preprocessing(audio_path):\n",
    "  audio = AudioSegment.from_file(audio_path)\n",
    "  AudioSegment.converter=r\"C:\\Users\\Nilay Kumar\\Desktop\\SIH\\fast_api\\ffmpeg.exe\"\n",
    "  os.remove(audio_path)\n",
    "  audio.export(os.getcwd()+\"/\"+\"audio.wav\", format=\"wav\")"
   ]
  }
 ],
 "metadata": {
  "kernelspec": {
   "display_name": "Python 3",
   "language": "python",
   "name": "python3"
  },
  "language_info": {
   "codemirror_mode": {
    "name": "ipython",
    "version": 3
   },
   "file_extension": ".py",
   "mimetype": "text/x-python",
   "name": "python",
   "nbconvert_exporter": "python",
   "pygments_lexer": "ipython3",
   "version": "3.11.4"
  },
  "orig_nbformat": 4
 },
 "nbformat": 4,
 "nbformat_minor": 2
}
